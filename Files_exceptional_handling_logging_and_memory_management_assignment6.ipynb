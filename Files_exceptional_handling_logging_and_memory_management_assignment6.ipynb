{
  "nbformat": 4,
  "nbformat_minor": 0,
  "metadata": {
    "colab": {
      "provenance": []
    },
    "kernelspec": {
      "name": "python3",
      "display_name": "Python 3"
    },
    "language_info": {
      "name": "python"
    }
  },
  "cells": [
    {
      "cell_type": "code",
      "execution_count": null,
      "metadata": {
        "id": "g9Bh2Kj5HIG2"
      },
      "outputs": [],
      "source": [
        "# Q1. What is the difference between interpreted and compiled languages?\n",
        "# Interpreted languages execute code line by line, while compiled languages translate the entire code into machine language before execution.\n",
        "\n",
        "# Q2. What is exception handling in Python?\n",
        "# Exception handling in Python is a mechanism that allows a program to handle runtime errors using try, except, and finally blocks.\n",
        "\n",
        "# Q3. What is the purpose of the finally block in exception handling?\n",
        "# The finally block ensures that cleanup code (such as closing files) executes regardless of whether an exception occurs.\n",
        "\n",
        "# Q4. What is logging in Python?\n",
        "# Logging in Python is used to record messages about the execution of a program, which helps in debugging and monitoring applications.\n",
        "\n",
        "# Q5. What is the significance of the __del__ method in Python?\n",
        "# The __del__ method is a destructor that is called when an object is about to be destroyed, allowing cleanup operations.\n",
        "\n",
        "# Q6. What is the difference between import and from ... import in Python?\n",
        "# import imports the entire module, requiring dot notation to access functions, whereas from ... import allows direct access to specific functions or variables.\n",
        "\n",
        "# Q7. How can you handle multiple exceptions in Python?\n",
        "# Multiple exceptions can be handled using multiple except blocks or a single except block with a tuple of exception types.\n",
        "\n",
        "# Q8. What is the purpose of the with statement when handling files in Python?\n",
        "# The with statement ensures proper file handling by automatically closing the file after the block execution.\n",
        "\n",
        "# Q9. What is the difference between multithreading and multiprocessing?\n",
        "# Multithreading runs multiple threads in a single process, while multiprocessing creates multiple processes with separate memory spaces.\n",
        "\n",
        "# Q10. What are the advantages of using logging in a program?\n",
        "# Logging helps in debugging, monitoring, and tracking program execution by storing runtime information in logs.\n",
        "\n",
        "# Q11. What is memory management in Python?\n",
        "# Memory management in Python involves allocating and deallocating memory automatically using reference counting and garbage collection.\n",
        "\n",
        "# Q12. What are the basic steps involved in exception handling in Python?\n",
        "# The basic steps are: 1. Try block to test code, 2. Except block to handle exceptions, 3. Finally block for cleanup.\n",
        "\n",
        "# Q13. Why is memory management important in Python?\n",
        "# Proper memory management prevents memory leaks, optimizes performance, and ensures efficient resource utilization.\n",
        "\n",
        "# Q14. What is the role of try and except in exception handling?\n",
        "# The try block contains code that may raise an exception, and the except block handles the exception to prevent crashes.\n",
        "\n",
        "# Q15. How does Python's garbage collection system work?\n",
        "# Python's garbage collector automatically deallocates memory of unreferenced objects using reference counting and cyclic garbage collection.\n",
        "\n",
        "# Q16. What is the purpose of the else block in exception handling?\n",
        "# The else block executes code only if no exceptions occur in the try block.\n",
        "\n",
        "# Q17. What are the common logging levels in Python?\n",
        "# The common logging levels are DEBUG, INFO, WARNING, ERROR, and CRITICAL.\n",
        "\n",
        "# Q18. What is the difference between os.fork() and multiprocessing in Python?\n",
        "# os.fork() creates a child process by duplicating the parent process, while multiprocessing creates new processes that run independently.\n",
        "\n",
        "# Q19. What is the importance of closing a file in Python?\n",
        "# Closing a file ensures data is saved properly and releases system resources.\n",
        "\n",
        "# Q20. What is the difference between file.read() and file.readline() in Python?\n",
        "# file.read() reads the entire file content as a string, whereas file.readline() reads only one line at a time.\n",
        "\n",
        "# Q21. What is the logging module in Python used for?\n",
        "# The logging module is used to record and track events that happen during execution for debugging and monitoring purposes.\n",
        "\n",
        "# Q22. What is the os module in Python used for in file handling?\n",
        "# The os module provides functions for interacting with the operating system, such as file and directory operations.\n",
        "\n",
        "# Q23. What are the challenges associated with memory management in Python?\n",
        "# Challenges include cyclic references, memory fragmentation, and high memory usage for long-running applications.\n",
        "\n",
        "# Q24. How do you raise an exception manually in Python?\n",
        "# You can raise an exception using the raise keyword, e.g., raise ValueError('An error occurred').\n",
        "\n",
        "# Q25. Why is it important to use multithreading in certain applications?\n",
        "# Multithreading is important for improving performance in I/O-bound tasks by allowing multiple operations to run concurrently.\n"
      ]
    },
    {
      "cell_type": "code",
      "source": [
        "# Q1. How can you open a file for writing in Python and write a string to it?\n",
        "\n",
        "# Open a file in write mode\n",
        "with open(\"example.txt\", \"w\") as file:\n",
        "    # Write a string to the file\n",
        "    file.write(\"Hello, this is a test string!\")\n",
        "\n",
        "print(\"File written successfully!\")\n"
      ],
      "metadata": {
        "id": "kVVzt_D0H7XA"
      },
      "execution_count": null,
      "outputs": []
    },
    {
      "cell_type": "code",
      "source": [
        "# Q2. Write a Python program to read the contents of a file and print each line?\n",
        "\n",
        "# Open the file in read mode\n",
        "with open(\"example.txt\", \"r\") as file:\n",
        "    # Read and print each line\n",
        "    for line in file:\n",
        "        print(line.strip())  # strip() removes any extra newlines or spaces\n"
      ],
      "metadata": {
        "id": "sqT4FH3HYU_S"
      },
      "execution_count": null,
      "outputs": []
    },
    {
      "cell_type": "code",
      "source": [
        "# Q3. How would you handle a case where the file doesn't exist while trying to open it for reading?\n",
        "\n",
        "try:\n",
        "    # Try to open the file in read mode\n",
        "    with open(\"example.txt\", \"r\") as file:\n",
        "        for line in file:\n",
        "            print(line.strip())\n",
        "except FileNotFoundError:\n",
        "    print(\"Error: The file does not exist. Please check the file name and path.\")\n"
      ],
      "metadata": {
        "id": "hnSx7IelY4Fb"
      },
      "execution_count": null,
      "outputs": []
    },
    {
      "cell_type": "code",
      "source": [
        "# Q4. Write a Python script that reads from one file and writes its content to another file ?\n",
        "\n",
        "# Open the source file for reading and destination file for writing\n",
        "with open(\"source.txt\", \"r\") as source_file, open(\"destination.txt\", \"w\") as dest_file:\n",
        "    # Read from source and write to destination\n",
        "    for line in source_file:\n",
        "        dest_file.write(line)\n",
        "\n",
        "print(\"File copied successfully!\")\n"
      ],
      "metadata": {
        "id": "Ud4ZhZ_dZCei"
      },
      "execution_count": null,
      "outputs": []
    },
    {
      "cell_type": "code",
      "source": [
        "# Q5. How would you catch and handle division by zero error in Python?\n",
        "\n",
        "try:\n",
        "    # Attempting division\n",
        "    num = int(input(\"Enter a number: \"))\n",
        "    result = num / 0  # This will cause a ZeroDivisionError\n",
        "    print(\"Result:\", result)\n",
        "except ZeroDivisionError:\n",
        "    print(\"Error: Division by zero is not allowed!\")\n"
      ],
      "metadata": {
        "id": "WYoBXawVZO7q"
      },
      "execution_count": null,
      "outputs": []
    },
    {
      "cell_type": "code",
      "source": [
        "# Q6. Write a Python program that logs an error message to a log file when a division by zero exception occurs?\n",
        "\n",
        "import logging\n",
        "\n",
        "# Configure logging to write errors to a log file\n",
        "logging.basicConfig(filename=\"error.log\", level=logging.ERROR, format=\"%(asctime)s - %(levelname)s - %(message)s\")\n",
        "\n",
        "try:\n",
        "    # Attempting division\n",
        "    num = int(input(\"Enter a number: \"))\n",
        "    result = num / 0  # This will cause a ZeroDivisionError\n",
        "    print(\"Result:\", result)\n",
        "except ZeroDivisionError:\n",
        "    logging.error(\"Division by zero error occurred.\")\n",
        "    print(\"Error: Division by zero is not allowed! Check error.log for details.\")\n",
        "\n"
      ],
      "metadata": {
        "id": "yxGpVgjnZa4P"
      },
      "execution_count": null,
      "outputs": []
    },
    {
      "cell_type": "code",
      "source": [
        "# Q7. How do you log information at different levels (INFO, ERROR, WARNING) in Python using the logging module?\n",
        "\n",
        "import logging\n",
        "\n",
        "# Configure logging settings\n",
        "logging.basicConfig(\n",
        "    filename=\"app.log\",  # Log file name\n",
        "    level=logging.DEBUG,  # Set the minimum log level\n",
        "    format=\"%(asctime)s - %(levelname)s - %(message)s\"  # Log format\n",
        ")\n",
        "\n",
        "# Logging messages at different levels\n",
        "logging.debug(\"This is a DEBUG message - used for detailed troubleshooting.\")\n",
        "logging.info(\"This is an INFO message - used for general information.\")\n",
        "logging.warning(\"This is a WARNING message - used for potential issues.\")\n",
        "logging.error(\"This is an ERROR message - used for serious errors.\")\n",
        "logging.critical(\"This is a CRITICAL message - used for severe failures.\")\n",
        "\n",
        "print(\"Log messages written to app.log\")\n"
      ],
      "metadata": {
        "id": "PfXcQWvlZsmZ"
      },
      "execution_count": null,
      "outputs": []
    },
    {
      "cell_type": "code",
      "source": [
        "# Q8. Write a program to handle a file opening error using exception handling?\n",
        "\n",
        "try:\n",
        "    # Attempt to open a file that may not exist\n",
        "    with open(\"non_existent_file.txt\", \"r\") as file:\n",
        "        content = file.read()\n",
        "        print(content)\n",
        "except FileNotFoundError:\n",
        "    print(\"Error: The file does not exist. Please check the file name and try again.\")\n",
        "except Exception as e:\n",
        "    print(f\"An unexpected error occurred: {e}\")\n"
      ],
      "metadata": {
        "id": "zcGRutEHaKMA"
      },
      "execution_count": null,
      "outputs": []
    },
    {
      "cell_type": "code",
      "source": [
        "# Q9. How can you read a file line by line and store its content in a list in Python?\n",
        "\n",
        "with open(\"example.txt\", \"r\") as file:\n",
        "    lines = file.readlines()  # Reads all lines and stores them in a list\n",
        "\n",
        "print(lines)  # Output: ['Line 1\\n', 'Line 2\\n', 'Line 3\\n']\n"
      ],
      "metadata": {
        "id": "6kcuc5gdaYJi"
      },
      "execution_count": null,
      "outputs": []
    },
    {
      "cell_type": "code",
      "source": [
        "# Q10. How can you append data to an existing file in Python?\n",
        "\n",
        "with open(\"example.txt\", \"a\") as file:\n",
        "    file.write(\"\\nAppended line\")\n",
        "\n",
        "print(\"Data appended to the file successfully!\")"
      ],
      "metadata": {
        "id": "osvLI_vDalGc"
      },
      "execution_count": null,
      "outputs": []
    },
    {
      "cell_type": "code",
      "source": [
        "# Q11. Write a Python program that uses a try-except block to handle an error when attempting to access a\n",
        "# dictionary key that doesn't exist?\n",
        "\n",
        "# Example dictionary\n",
        "my_dict = {\"name\": \"Alice\", \"age\": 25}\n",
        "\n",
        "try:\n",
        "    # Attempt to access a key that doesn't exist\n",
        "    value = my_dict[\"address\"]  # This will raise a KeyError\n",
        "    print(value)\n",
        "except KeyError:\n",
        "    print(\"Error: The key does not exist in the dictionary.\")\n"
      ],
      "metadata": {
        "id": "N3KCeQria5rR"
      },
      "execution_count": null,
      "outputs": []
    },
    {
      "cell_type": "code",
      "source": [
        "# Q12. Write a program that demonstrates using multiple except blocks to handle different types of exceptions?\n",
        "\n",
        "try:\n",
        "    # Taking input and performing operations that could raise different exceptions\n",
        "    num1 = int(input(\"Enter a number: \"))  # Could raise ValueError if input is not an integer\n",
        "    num2 = int(input(\"Enter another number: \"))\n",
        "    result = num1 / num2  # Could raise ZeroDivisionError if num2 is zero\n",
        "    print(f\"Result: {result}\")\n",
        "\n",
        "except ValueError:\n",
        "    print(\"Error: Please enter a valid integer.\")\n",
        "\n",
        "except ZeroDivisionError:\n",
        "    print(\"Error: Division by zero is not allowed.\")\n",
        "\n",
        "except Exception as e:\n",
        "    print(f\"An unexpected error occurred: {e}\")\n"
      ],
      "metadata": {
        "id": "PMDY66iXbI6B"
      },
      "execution_count": null,
      "outputs": []
    },
    {
      "cell_type": "code",
      "source": [
        "# Q13. How would you check if a file exists before attempting to read it in Python?\n",
        "\n",
        "from pathlib import Path\n",
        "\n",
        "file_path = Path(\"example.txt\")\n",
        "\n",
        "if file_path.exists():\n",
        "    with open(file_path, \"r\") as file:\n",
        "        content = file.read()\n",
        "        print(content)\n",
        "else:\n",
        "    print(\"Error: The file does not exist.\")\n"
      ],
      "metadata": {
        "id": "UiFfwR6QbbC7"
      },
      "execution_count": null,
      "outputs": []
    },
    {
      "cell_type": "code",
      "source": [
        "# Q14. Write a program that uses the logging module to log both informational and error messages?\n",
        "import logging\n",
        "\n",
        "# Configure logging\n",
        "logging.basicConfig(\n",
        "    filename=\"app.log\",  # Log file name\n",
        "    level=logging.DEBUG,  # Set the logging level to capture all messages (DEBUG, INFO, WARNING, ERROR, CRITICAL)\n",
        "    format=\"%(asctime)s - %(levelname)s - %(message)s\"  # Log format with timestamp\n",
        ")\n",
        "\n",
        "# Log an informational message\n",
        "logging.info(\"This is an informational message.\")\n",
        "\n",
        "# Log an error message\n",
        "try:\n",
        "    x = 10 / 0  # This will raise a ZeroDivisionError\n",
        "except ZeroDivisionError as e:\n",
        "    logging.error(f\"Error occurred: {e}\")\n",
        "\n",
        "print(\"Logs have been written to app.log\")\n"
      ],
      "metadata": {
        "id": "lUa9mDCobr6A"
      },
      "execution_count": null,
      "outputs": []
    },
    {
      "cell_type": "code",
      "source": [
        "# Q15. Write a Python program that prints the content of a file and handles the case when the file is empty?\n",
        "\n",
        "def read_file(file_path):\n",
        "    try:\n",
        "        with open(file_path, 'r') as file:\n",
        "            content = file.read().strip()  # Remove extra whitespace and newline characters\n",
        "            if not content:  # Check if the content is empty\n",
        "                print(\"The file is empty.\")\n",
        "            else:\n",
        "                print(\"File Content:\")\n",
        "                print(content)\n",
        "    except FileNotFoundError:\n",
        "        print(\"Error: The file does not exist.\")\n",
        "    except Exception as e:\n",
        "        print(f\"An unexpected error occurred: {e}\")\n",
        "\n",
        "# Example usage\n",
        "file_path = \"example.txt\"  # Replace with the path to your file\n",
        "read_file(file_path)\n"
      ],
      "metadata": {
        "id": "_IXHpflDb34o"
      },
      "execution_count": null,
      "outputs": []
    },
    {
      "cell_type": "code",
      "source": [
        "# Q16. Demonstrate how to use memory profiling to check the memory usage of a small program?\n",
        "\n",
        "# Importing memory profiler\n",
        "from memory_profiler import profile\n",
        "\n",
        "# Sample function to profile\n",
        "@profile\n",
        "def sample_function():\n",
        "    a = [i for i in range(100000)]  # Creating a large list to consume memory\n",
        "    b = {i: i * 2 for i in range(50000)}  # Creating a dictionary\n",
        "    return a, b\n",
        "\n",
        "if __name__ == \"__main__\":\n",
        "    sample_function()\n"
      ],
      "metadata": {
        "id": "48QcMiZacFA3"
      },
      "execution_count": null,
      "outputs": []
    },
    {
      "cell_type": "code",
      "source": [
        "# Q17. Write a Python program to create and write a list of numbers to a file, one number per line?\n",
        "\n",
        "# List of numbers\n",
        "numbers = [1, 2, 3, 4, 5, 6, 7, 8, 9, 10]\n",
        "\n",
        "# Open the file in write mode\n",
        "with open(\"numbers.txt\", \"w\") as file:\n",
        "    for number in numbers:\n",
        "        file.write(f\"{number}\\n\")  # Write each number on a new line\n",
        "\n",
        "print(\"Numbers have been written to numbers.txt.\")\n"
      ],
      "metadata": {
        "id": "vlEUKuWpcQMF"
      },
      "execution_count": null,
      "outputs": []
    },
    {
      "cell_type": "code",
      "source": [
        "# Q18. How would you implement a basic logging setup that logs to a file with rotation after 1MB?\n",
        "\n",
        "import logging\n",
        "from logging.handlers import RotatingFileHandler\n",
        "\n",
        "# Set up a rotating file handler\n",
        "log_file = \"app.log\"\n",
        "max_log_size = 1 * 1024 * 1024  # 1 MB\n",
        "backup_count = 3  # Number of backup log files to keep\n",
        "\n",
        "# Create a rotating file handler\n",
        "handler = RotatingFileHandler(log_file, maxBytes=max_log_size, backupCount=backup_count)\n",
        "\n",
        "# Set the logging level and format\n",
        "handler.setLevel(logging.DEBUG)\n",
        "formatter = logging.Formatter('%(asctime)s - %(levelname)s - %(message)s')\n",
        "handler.setFormatter(formatter)\n",
        "\n",
        "# Set up the root logger\n",
        "logger = logging.getLogger()\n",
        "logger.setLevel(logging.DEBUG)\n",
        "logger.addHandler(handler)\n",
        "\n",
        "# Test the logging setup\n",
        "for i in range(10000):\n",
        "    logger.debug(f\"This is log message number {i}\")\n",
        "\n",
        "print(\"Logging to file with rotation is set up.\")\n"
      ],
      "metadata": {
        "id": "ds53jqG4ceSn"
      },
      "execution_count": null,
      "outputs": []
    },
    {
      "cell_type": "code",
      "source": [
        "# Q19. Write a program that handles both IndexError and KeyError using a try-except block?\n",
        "\n",
        "def handle_errors():\n",
        "    my_list = [1, 2, 3]\n",
        "    my_dict = {'a': 1, 'b': 2, 'c': 3}\n",
        "\n",
        "    try:\n",
        "        # Trying to access an index out of range in the list\n",
        "        print(my_list[5])  # This will raise IndexError\n",
        "\n",
        "        # Trying to access a key that doesn't exist in the dictionary\n",
        "        print(my_dict['d'])  # This will raise KeyError\n",
        "\n",
        "    except IndexError as e:\n",
        "        print(f\"IndexError: {e} - List index is out of range.\")\n",
        "\n",
        "    except KeyError as e:\n",
        "        print(f\"KeyError: {e} - Key not found in the dictionary.\")\n",
        "\n",
        "    except Exception as e:\n",
        "        print(f\"An unexpected error occurred: {e}\")\n",
        "\n",
        "# Call the function\n",
        "handle_errors()\n"
      ],
      "metadata": {
        "id": "HKUT6D7pcpJM"
      },
      "execution_count": null,
      "outputs": []
    },
    {
      "cell_type": "code",
      "source": [
        "# Q20. How would you open a file and read its contents using a context manager in Python?\n",
        "\n",
        "# Using a context manager to open and read a file\n",
        "with open('example.txt', 'r') as file:\n",
        "    content = file.read()  # Read the entire content of the file\n",
        "    print(content)  # Print the content of the file\n"
      ],
      "metadata": {
        "id": "Zuwo_2nScyW9"
      },
      "execution_count": null,
      "outputs": []
    },
    {
      "cell_type": "code",
      "source": [
        "# Q21. Write a Python program that reads a file and prints the number of occurrences of a specific word?\n",
        "\n",
        "def count_word_occurrences(file_path, word_to_count):\n",
        "    try:\n",
        "        # Open the file in read mode\n",
        "        with open(file_path, 'r') as file:\n",
        "            # Initialize the word count\n",
        "            word_count = 0\n",
        "            # Read the file line by line\n",
        "            for line in file:\n",
        "                # Count the occurrences of the specific word in the line\n",
        "                word_count += line.lower().split().count(word_to_count.lower())\n",
        "\n",
        "            print(f\"The word '{word_to_count}' occurs {word_count} times in the file.\")\n",
        "\n",
        "    except FileNotFoundError:\n",
        "        print(f\"Error: The file at {file_path} was not found.\")\n",
        "    except Exception as e:\n",
        "        print(f\"An error occurred: {e}\")\n",
        "\n",
        "# Example usage\n",
        "file_path = 'example.txt'  # Replace with your file path\n",
        "word_to_count = 'Python'  # Replace with the word you want to count\n",
        "count_word_occurrences(file_path, word_to_count)\n"
      ],
      "metadata": {
        "id": "UzGcKA8ZdFzx"
      },
      "execution_count": null,
      "outputs": []
    },
    {
      "cell_type": "code",
      "source": [
        "# Q22. How can you check if a file is empty before attempting to read its contents?\n",
        "\n",
        "def check_if_file_is_empty(file_path):\n",
        "    with open(file_path, 'r') as file:\n",
        "        content = file.read()\n",
        "        if not content:  # If content is an empty string, the file is empty\n",
        "            print(\"The file is empty.\")\n",
        "        else:\n",
        "            print(\"The file is not empty.\")\n",
        "            print(content)\n",
        "\n",
        "# Example usage\n",
        "file_path = 'example.txt'  # Replace with your file path\n",
        "check_if_file_is_empty(file_path)\n"
      ],
      "metadata": {
        "id": "qktHUnx9dRzn"
      },
      "execution_count": null,
      "outputs": []
    },
    {
      "cell_type": "code",
      "source": [
        "# Q23. Write a Python program that writes to a log file when an error occurs during file handling.\n",
        "\n",
        "import logging\n",
        "\n",
        "# Configure logging\n",
        "logging.basicConfig(filename='file_errors.log', level=logging.ERROR,\n",
        "                    format='%(asctime)s - %(levelname)s - %(message)s')\n",
        "\n",
        "def read_file(file_path):\n",
        "    try:\n",
        "        with open(file_path, 'r') as file:\n",
        "            content = file.read()\n",
        "            print(content)\n",
        "    except FileNotFoundError:\n",
        "        logging.error(f\"File '{file_path}' not found.\")\n",
        "        print(f\"Error: The file '{file_path}' was not found.\")\n",
        "    except PermissionError:\n",
        "        logging.error(f\"Permission denied for file '{file_path}'.\")\n",
        "        print(f\"Error: Permission denied for '{file_path}'.\")\n",
        "    except Exception as e:\n",
        "        logging.error(f\"An unexpected error occurred: {e}\")\n",
        "        print(f\"An unexpected error occurred: {e}\")\n",
        "\n",
        "# Example usage\n",
        "file_path = 'example.txt'  # Replace with an actual file path\n",
        "read_file(file_path)\n",
        "\n"
      ],
      "metadata": {
        "id": "ngt9odTUd0GD"
      },
      "execution_count": null,
      "outputs": []
    }
  ]
}